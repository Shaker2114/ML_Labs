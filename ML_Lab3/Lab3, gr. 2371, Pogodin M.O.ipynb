{
 "cells": [
  {
   "cell_type": "markdown",
   "id": "fc4ae060-772e-4b3b-b5e8-386e21522e43",
   "metadata": {},
   "source": [
    "**Лабораторная работа 3, Погодин Матвей Олегович, гр. 2371**"
   ]
  },
  {
   "cell_type": "markdown",
   "id": "1d99ef45-0e78-465b-88f9-a64a718bc7e7",
   "metadata": {},
   "source": [
    "**1) Выбранный датасет**"
   ]
  },
  {
   "cell_type": "markdown",
   "id": "27234f06-7085-4cc0-b014-6f7595f7ee3c",
   "metadata": {},
   "source": [
    "https://www.kaggle.com/datasets/bhargavlc/studentsperformance"
   ]
  },
  {
   "cell_type": "markdown",
   "id": "d46ded55-2cd9-4958-8bb8-e54c88233275",
   "metadata": {},
   "source": [
    "**2)**"
   ]
  },
  {
   "cell_type": "code",
   "execution_count": 20,
   "id": "d6acbf19-2ac4-4170-aa45-6fb2bbcc437b",
   "metadata": {},
   "outputs": [
    {
     "name": "stdout",
     "output_type": "stream",
     "text": [
      "   Math_Score  Reading_Score  Writing_Score  Placement_Score  Club_Join_Date\n",
      "0          65             86             67               78            2021\n",
      "1          64             85             71               80            2019\n",
      "2          76             77             77               84            2021\n",
      "3          80             76             75               75            2021\n",
      "4          63             91             62               90            2019\n"
     ]
    }
   ],
   "source": [
    "import pandas as pd\n",
    "# считаем датасет, чтобы проверить, что всё работает исправно\n",
    "df = pd.read_csv('Students Performance.csv')\n",
    "\n",
    "print(df.head())"
   ]
  },
  {
   "cell_type": "code",
   "execution_count": 21,
   "id": "bb324ab3-46c7-4e82-a4eb-f08e24c6dea7",
   "metadata": {},
   "outputs": [
    {
     "name": "stdout",
     "output_type": "stream",
     "text": [
      "   Math_Score  Reading_Score  Writing_Score  Placement_Score\n",
      "0          65             86             67               78\n",
      "1          64             85             71               80\n",
      "2          76             77             77               84\n",
      "3          80             76             75               75\n",
      "4          63             91             62               90\n"
     ]
    }
   ],
   "source": [
    "# уберём столбец даты вступления в клуб\n",
    "new_df = df.drop(df.columns[-1], axis=1)\n",
    "print(new_df.head())"
   ]
  },
  {
   "cell_type": "code",
   "execution_count": 22,
   "id": "227a4757-1bfb-4b68-b826-da359645b0f8",
   "metadata": {},
   "outputs": [
    {
     "name": "stdout",
     "output_type": "stream",
     "text": [
      "   Math_Score  Reading_Score  Writing_Score  Placement_Score  Total_Score\n",
      "0          65             86             67               78          296\n",
      "1          64             85             71               80          300\n",
      "2          76             77             77               84          314\n",
      "3          80             76             75               75          306\n",
      "4          63             91             62               90          306\n"
     ]
    }
   ],
   "source": [
    "# добавим новый атрибут total_score (добавляем его исходя из того, что в предыдущей работе\n",
    "# данный атрибут ярко разбивался на 2 кластера относительно отдельный предметов\n",
    "# следовательно может случиться, так что значения этого класса разобьются равномерно, опираясь на вывод по 2 работе\n",
    "# где значения total_score явно делятся на >=320 or >= 319 и меньше\n",
    "new_df['Total_Score'] = new_df['Math_Score'] + new_df['Reading_Score'] + new_df['Writing_Score'] + new_df['Placement_Score']\n",
    "print(new_df.head())"
   ]
  },
  {
   "cell_type": "code",
   "execution_count": 23,
   "id": "e25bbd1a-55ea-41bd-96e2-c40a3da3d50b",
   "metadata": {},
   "outputs": [
    {
     "data": {
      "text/plain": [
       "Total_Score_bin\n",
       "1    200\n",
       "0    199\n",
       "Name: count, dtype: int64"
      ]
     },
     "execution_count": 23,
     "metadata": {},
     "output_type": "execute_result"
    }
   ],
   "source": [
    "# в качестве значения целевого класса выберем атрибут total_score и посмотрим на сбалансированность значений,\n",
    "# относительно разбиения их на категории >=319 и < 319\n",
    "new_df['Total_Score_bin'] = new_df['Total_Score'].apply(lambda x: 1 if x >= 319 else 0)  \n",
    "new_df['Total_Score_bin'].value_counts()"
   ]
  },
  {
   "cell_type": "markdown",
   "id": "f27694f3-e1c2-44f6-9cb8-aae8e538be8b",
   "metadata": {},
   "source": [
    "Видим, что данный атрибут практически идеально сбалансирован"
   ]
  },
  {
   "cell_type": "markdown",
   "id": "f249262a-a909-49ca-9efd-f40c636eee99",
   "metadata": {},
   "source": [
    "Разделим данные на тренировочную и тестовую выборки"
   ]
  },
  {
   "cell_type": "code",
   "execution_count": 24,
   "id": "0e46bcec-f436-463f-ab4d-1ed013649f69",
   "metadata": {},
   "outputs": [],
   "source": [
    "from sklearn.model_selection import train_test_split\n",
    "\n",
    "# предикторы и целевой класс\n",
    "X = new_df[['Math_Score', 'Reading_Score', 'Writing_Score', 'Placement_Score']]\n",
    "y = new_df['Total_Score_bin']\n",
    "\n",
    "# Разделение на обучающую и тестовую выборки\n",
    "X_train, X_test, y_train, y_test = train_test_split(X, y, test_size=0.3, random_state=42, stratify=y)"
   ]
  },
  {
   "cell_type": "code",
   "execution_count": 32,
   "id": "0746db3c-b610-44a0-86f9-4fdbb6143e41",
   "metadata": {},
   "outputs": [
    {
     "name": "stdout",
     "output_type": "stream",
     "text": [
      "                              For KNN\n",
      "              precision    recall  f1-score   support\n",
      "\n",
      "           0       0.90      0.93      0.92        60\n",
      "           1       0.93      0.90      0.92        60\n",
      "\n",
      "    accuracy                           0.92       120\n",
      "   macro avg       0.92      0.92      0.92       120\n",
      "weighted avg       0.92      0.92      0.92       120\n",
      "\n",
      "                         For DecisionTree\n",
      "              precision    recall  f1-score   support\n",
      "\n",
      "           0       0.87      0.80      0.83        60\n",
      "           1       0.82      0.88      0.85        60\n",
      "\n",
      "    accuracy                           0.84       120\n",
      "   macro avg       0.84      0.84      0.84       120\n",
      "weighted avg       0.84      0.84      0.84       120\n",
      "\n"
     ]
    }
   ],
   "source": [
    "# Обучим модели knn и decision tree для дальнейшего сравнения.\n",
    "from sklearn.neighbors import KNeighborsClassifier\n",
    "from sklearn.metrics import classification_report\n",
    "from sklearn.tree import DecisionTreeClassifier\n",
    "\n",
    "# классификация с k=2\n",
    "knn = KNeighborsClassifier(n_neighbors=2)\n",
    "knn.fit(X_train, y_train)\n",
    "# Предсказания\n",
    "y_pred_knn = knn.predict(X_test)\n",
    "\n",
    "# Создание и обучение модели\n",
    "tree = DecisionTreeClassifier(random_state=42)\n",
    "tree.fit(X_train, y_train)\n",
    "# Предсказания\n",
    "y_pred_tree = tree.predict(X_test)\n",
    "\n",
    "print(' ' * 30 + 'For KNN')\n",
    "print(classification_report(y_test, y_pred_knn))\n",
    "print(' ' * 25 + 'For DecisionTree')\n",
    "print(classification_report(y_test, y_pred_tree))"
   ]
  },
  {
   "cell_type": "markdown",
   "id": "37ea64cb-42eb-40fb-b65c-53016c5742f9",
   "metadata": {},
   "source": [
    "**Accuracy**"
   ]
  },
  {
   "cell_type": "code",
   "execution_count": 41,
   "id": "742f021b-7f2b-4809-8c0c-d565e4b3c2a1",
   "metadata": {},
   "outputs": [
    {
     "name": "stdout",
     "output_type": "stream",
     "text": [
      "kNN Accuracy: 0.9166666666666666\n",
      "Decision Tree Accuracy: 0.8416666666666667\n"
     ]
    }
   ],
   "source": [
    "# общая точность классификации\n",
    "from sklearn.metrics import accuracy_score\n",
    "\n",
    "\n",
    "accuracy_knn = accuracy_score(y_test, y_pred_knn)\n",
    "accuracy_tree = accuracy_score(y_test, y_pred_tree)\n",
    "print(f\"kNN Accuracy: {accuracy_knn}\")\n",
    "print(f\"Decision Tree Accuracy: {accuracy_tree}\")"
   ]
  },
  {
   "cell_type": "markdown",
   "id": "7545fc13-8e3d-499e-8731-0e8b4728681d",
   "metadata": {},
   "source": [
    "**Presicion, Recall, F-measure**"
   ]
  },
  {
   "cell_type": "code",
   "execution_count": 48,
   "id": "d3377e0f-7419-4879-9a52-fe0c1f478cc2",
   "metadata": {},
   "outputs": [
    {
     "name": "stdout",
     "output_type": "stream",
     "text": [
      "KNN - Precision: 0.9171301446051168, Recall: 0.9166666666666667, F1: 0.9166435120866907\n",
      "Decision Tree - Precision: 0.8440559440559441, Recall: 0.8416666666666667, F1: 0.841391304347826\n"
     ]
    },
    {
     "data": {
      "image/png": "[encoded data removed]",
      "text/plain": [
       "<Figure size 600x200 with 1 Axes>"
      ]
     },
     "metadata": {},
     "output_type": "display_data"
    }
   ],
   "source": [
    "# Оценка качества по каждой категории\n",
    "from sklearn.metrics import precision_score, recall_score, f1_score\n",
    "\n",
    "# Для KNN\n",
    "precision_knn = precision_score(y_test, y_pred_knn, average='macro')\n",
    "recall_knn = recall_score(y_test, y_pred_knn, average='macro')\n",
    "f1_knn = f1_score(y_test, y_pred_knn, average='macro')\n",
    "\n",
    "# Для Decision Tree\n",
    "precision_tree = precision_score(y_test, y_pred_tree, average='macro')\n",
    "recall_tree = recall_score(y_test, y_pred_tree, average='macro')\n",
    "f1_tree = f1_score(y_test, y_pred_tree, average='macro')\n",
    "\n",
    "print(f\"KNN - Precision: {precision_knn}, Recall: {recall_knn}, F1: {f1_knn}\")\n",
    "print(f\"Decision Tree - Precision: {precision_tree}, Recall: {recall_tree}, F1: {f1_tree}\")\n",
    "\n",
    "#для наглядности нарисуем таблицу с этими значениями округлёнными до 2 знаков после запятой\n",
    "data = {\n",
    "    \"Модель\": [\"kNN\", \"Decision Tree\"],\n",
    "    \"Precision\": [round(precision_knn, 2), round(precision_tree, 2)],\n",
    "    \"Recall\": [round(recall_knn, 2), round(recall_tree, 2)],\n",
    "    \"F-score\": [round(f1_knn, 2), round(f1_tree, 2)]\n",
    "}\n",
    "\n",
    "knn_tree_df = pd.DataFrame(data)\n",
    "\n",
    "fig, ax = plt.subplots(figsize=(6, 2))\n",
    "ax.axis('tight')\n",
    "ax.axis('off')\n",
    "table = ax.table(cellText=knn_tree_df.values, colLabels=knn_tree_df.columns, cellLoc='center', loc='center')\n",
    "\n",
    "table.auto_set_font_size(False)\n",
    "table.set_fontsize(10)\n",
    "table.auto_set_column_width(col=list(range(len(knn_tree_df.columns))))\n",
    "\n",
    "plt.show()"
   ]
  },
  {
   "cell_type": "markdown",
   "id": "07cbf068-12b0-4a15-acc8-3774477faa48",
   "metadata": {},
   "source": [
    "**ROC curve**"
   ]
  },
  {
   "cell_type": "code",
   "execution_count": 36,
   "id": "11aaae6a-6244-4968-816a-b33d3838d845",
   "metadata": {},
   "outputs": [
    {
     "data": {
      "image/png": "[encoded data removed]",
      "text/plain": [
       "<Figure size 700x500 with 1 Axes>"
      ]
     },
     "metadata": {},
     "output_type": "display_data"
    }
   ],
   "source": [
    "# Построим ROC-кривую\n",
    "from sklearn.metrics import roc_curve, auc\n",
    "\n",
    "y_prob_knn = knn.predict_proba(X_test)[:, 1]\n",
    "y_prob_tree = tree.predict_proba(X_test)[:, 1]\n",
    "\n",
    "fpr_knn, tpr_knn, _ = roc_curve(y_test, y_prob_knn)\n",
    "fpr_tree, tpr_tree, _ = roc_curve(y_test, y_prob_tree)\n",
    "\n",
    "roc_auc_knn = auc(fpr_knn, tpr_knn)\n",
    "roc_auc_tree = auc(fpr_tree, tpr_tree)\n",
    "\n",
    "plt.figure(figsize=(7, 5))\n",
    "plt.plot(fpr_knn, tpr_knn, label=f\"KNN (AUC = {roc_auc_knn:.2f})\")\n",
    "plt.plot(fpr_tree, tpr_tree, label=f\"Decision Tree (AUC = {roc_auc_tree:.2f})\")\n",
    "plt.plot([0, 1], [0, 1], 'k--', label=\"Random guess (AUC = 0.50)\")\n",
    "plt.title(\"ROC curve\")\n",
    "plt.xlabel(\"False Positive Rate\")\n",
    "plt.ylabel(\"True Positive Rate\")\n",
    "plt.legend(loc=\"lower right\")\n",
    "plt.grid()\n",
    "plt.show()"
   ]
  },
  {
   "cell_type": "markdown",
   "id": "71927ec8-37dd-4afe-b065-4b172d436c50",
   "metadata": {},
   "source": [
    "**3) Вывод**"
   ]
  },
  {
   "cell_type": "markdown",
   "id": "d37df262-a5e1-4936-9da3-1568f1bb3364",
   "metadata": {},
   "source": [
    "1. Общий показатель Accuracy:\n",
    "Метод kNN показывает более высокую точность, чем дерево решений: Accuracy_knn: 0.92; Accuracy_tree: 0.84.\n",
    "2. Presicion, Recall, F-measure\n",
    "KNN - Precision: 0.92, Recall: 0.92, F1: 0.92\n",
    "Decision Tree - Precision: 0.84, Recall: 0.84, F1: 0.84\n",
    "Видим, что каждая из метрик Precision, Recall, F1 для KNN больше, чем для Decision Tree, отсюда можно сказать, что kNN немного лучше распознает студентов хорошо сдавших экзамен и KNN имеет более сбалансированное поведение.\n",
    "3. ROC curve\n",
    "Исходя из ROC curve, метод KNN имеет большую площадь под графиком, откуда следует, что KNN лучше разделяет классы, чем дерево решений.\n",
    "\n",
    "Таким образом, KNN лучше подошел для выбранного датасета, показав более высокую точность и общее качество.\n"
   ]
  }
 ],
 "metadata": {
  "kernelspec": {
   "display_name": "Python 3 (ipykernel)",
   "language": "python",
   "name": "python3"
  },
  "language_info": {
   "codemirror_mode": {
    "name": "ipython",
    "version": 3
   },
   "file_extension": ".py",
   "mimetype": "text/x-python",
   "name": "python",
   "nbconvert_exporter": "python",
   "pygments_lexer": "ipython3",
   "version": "3.13.0"
  }
 },
 "nbformat": 4,
 "nbformat_minor": 5
}
